{
 "cells": [
  {
   "cell_type": "code",
   "execution_count": 16,
   "metadata": {},
   "outputs": [],
   "source": [
    "import pandas as pd\n",
    "import re  \n",
    "from urllib.parse import urlparse\n",
    "import whois\n",
    "from sklearn.model_selection import train_test_split\n",
    "from sklearn.ensemble import RandomForestClassifier\n",
    "from sklearn.metrics import accuracy_score"
   ]
  },
  {
   "cell_type": "code",
   "execution_count": 18,
   "metadata": {},
   "outputs": [
    {
     "name": "stdout",
     "output_type": "stream",
     "text": [
      "   Unnamed: 0  sepal length (cm)  sepal width (cm)  petal length (cm)  \\\n",
      "0           0                5.1               3.5                1.4   \n",
      "1           1                4.9               3.0                1.4   \n",
      "2           2                4.7               3.2                1.3   \n",
      "3           3                4.6               3.1                1.5   \n",
      "4           4                5.0               3.6                1.4   \n",
      "\n",
      "   petal width (cm)  \n",
      "0               0.2  \n",
      "1               0.2  \n",
      "2               0.2  \n",
      "3               0.2  \n",
      "4               0.2  \n",
      "<class 'pandas.core.frame.DataFrame'>\n",
      "RangeIndex: 1747689 entries, 0 to 1747688\n",
      "Data columns (total 2 columns):\n",
      " #   Column  Dtype \n",
      "---  ------  ----- \n",
      " 0   ID      object\n",
      " 1   URL     object\n",
      "dtypes: object(2)\n",
      "memory usage: 26.7+ MB\n",
      "None\n"
     ]
    }
   ],
   "source": [
    "train_path = 'train.csv'\n",
    "test_path = 'test.csv'\n",
    "submission_path = 'sample_submission.csv'\n",
    "\n",
    "train_df =  pd.read_csv(train_path)\n",
    "test_df = pd.read_csv(test_path)\n",
    "\n",
    "print(train_df.head())\n",
    "print(test_df.info())"
   ]
  },
  {
   "cell_type": "code",
   "execution_count": null,
   "metadata": {},
   "outputs": [],
   "source": [
    "def extract_features(df):\n",
    "    df['url_length'] = df['url'].apply(len)  \n",
    "    df['num_dots'] = df['url'].apply(lambda x: x.count('.')) \n",
    "    df['num_slashes'] = df['url'].apply(lambda x: x.count('/'))\n",
    "    df['num_hyphens'] = df['url'].apply(lambda x: x.count('-'))  \n",
    "    df['has_https'] = df['url'].apply(lambda x: 1 if 'https' in x else 0)  \n",
    "    df['has_www'] = df['url'].apply(lambda x: 1 if 'www' in x else 0)  \n",
    "    df['num_digits'] = df['url'].apply(lambda x: sum(c.isdigit() for c in x))\n",
    "\n",
    "    return df\n",
    "train_df = extract_features(train_df)\n",
    "test_df = extract_features(test_df)\n",
    "\n",
    "print(train_df.head())"
   ]
  },
  {
   "cell_type": "code",
   "execution_count": null,
   "metadata": {},
   "outputs": [],
   "source": [
    "train_df[\"domain\"] = train_df[\"url\"].apply(lambda x: urlparse(x).netloc)\n",
    "test_df[\"domain\"] = test_df[\"url\"].apply(lambda x: urlparse(x).netloc)\n"
   ]
  },
  {
   "cell_type": "code",
   "execution_count": null,
   "metadata": {},
   "outputs": [],
   "source": [
    "def get_domain_info(domain):\n",
    "    try:\n",
    "        domain_info = whois.whois(domain)\n",
    "        return {\n",
    "            \"creation_date\": domain_info.creation_date,\n",
    "            \"expiration_date\": domain_info.expiration_date,\n",
    "            \"registrar\": domain_info.registrar\n",
    "        }\n",
    "    except:\n",
    "        return None\n",
    "\n",
    "# WHOIS 데이터 추가\n",
    "train_df[\"domain_age\"] = train_df[\"domain\"].apply(lambda x: get_domain_info(x)[\"creation_date\"])\n",
    "test_df[\"domain_age\"] = test_df[\"domain\"].apply(lambda x: get_domain_info(x)[\"creation_date\"])\n"
   ]
  },
  {
   "cell_type": "code",
   "execution_count": null,
   "metadata": {},
   "outputs": [],
   "source": [
    "# 사용할 특징 선택\n",
    "features = ['url_length', 'num_dots', 'num_slashes', 'num_hyphens', 'has_https', 'has_www', 'num_digits', 'domain_age', 'is_blacklisted']\n",
    "X = train_df[features]\n",
    "y = train_df['label']  # 실제 정답 라벨\n",
    "\n",
    "# 데이터 분할 (학습용, 검증용)\n",
    "X_train, X_val, y_train, y_val = train_test_split(X, y, test_size=0.2, random_state=42)\n",
    "\n",
    "# 모델 학습\n",
    "clf = RandomForestClassifier(n_estimators=100, random_state=42)\n",
    "clf.fit(X_train, y_train)\n",
    "\n",
    "# 검증 데이터 예측\n",
    "y_pred = clf.predict(X_val)\n",
    "\n",
    "# 정확도 출력\n",
    "print(\"Validation Accuracy:\", accuracy_score(y_val, y_pred))\n"
   ]
  },
  {
   "cell_type": "code",
   "execution_count": null,
   "metadata": {},
   "outputs": [],
   "source": [
    "# 테스트 데이터 예측\n",
    "test_predictions = clf.predict(test_df[features])\n",
    "\n",
    "# 제출 파일 생성\n",
    "submission = pd.read_csv(submission_path)  # sample_submission.csv 불러오기\n",
    "submission['label'] = test_predictions  # 예측 결과 넣기\n",
    "\n",
    "# 저장\n",
    "submission.to_csv(\"/mnt/data/submission.csv\", index=False)\n",
    "print(\"결과 저장 완료!\")\n"
   ]
  }
 ],
 "metadata": {
  "kernelspec": {
   "display_name": "base",
   "language": "python",
   "name": "python3"
  },
  "language_info": {
   "codemirror_mode": {
    "name": "ipython",
    "version": 3
   },
   "file_extension": ".py",
   "mimetype": "text/x-python",
   "name": "python",
   "nbconvert_exporter": "python",
   "pygments_lexer": "ipython3",
   "version": "3.12.7"
  }
 },
 "nbformat": 4,
 "nbformat_minor": 2
}
